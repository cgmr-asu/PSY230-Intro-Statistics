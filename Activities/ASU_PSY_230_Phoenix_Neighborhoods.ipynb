{
  "nbformat": 4,
  "nbformat_minor": 0,
  "metadata": {
    "colab": {
      "provenance": [],
      "include_colab_link": true
    },
    "kernelspec": {
      "name": "ir",
      "display_name": "R"
    },
    "language_info": {
      "name": "R"
    }
  },
  "cells": [
    {
      "cell_type": "markdown",
      "metadata": {
        "id": "view-in-github",
        "colab_type": "text"
      },
      "source": [
        "<a href=\"https://colab.research.google.com/github/cgmr-asu/PSY230-Intro-Statistics/blob/main/Activities/ASU_PSY_230_Phoenix_Neighborhoods.ipynb\" target=\"_parent\"><img src=\"https://colab.research.google.com/assets/colab-badge.svg\" alt=\"Open In Colab\"/></a>"
      ]
    },
    {
      "cell_type": "markdown",
      "source": [
        "**We'll work through the first part as a group! One note: Try not to hit \"refresh\" in your browser! This won't break anything, but it might undo some of your work!**\n",
        "\n",
        "**If you are working alone, note: The first step here is to click File -> Make a New Copy above. This will open a new personal copy of this document that you can edit on your own. You don't need to turn this in in any form, but you might want to return to it! If you want to come back to your filled-in document, you can go to your Google Drive and search for PSY230: Phoenix Neighborhoods or click on the folder called \"Colab\" and open it from there.**"
      ],
      "metadata": {
        "id": "KtHd_SF51DAY"
      }
    },
    {
      "cell_type": "markdown",
      "source": [
        "# First Look in R\n",
        "By the end of this activity you:\n",
        "\n",
        "\n",
        "*   Will have *accomplished* something in R\n",
        "*   Will be familiar with the \"copy and adapt\" method for using code\n",
        "*   Have a basic familiarity with the idea of variables and dataframes as units of data\n",
        "\n",
        "In this activity, you are *not* required to memorize the name of any tool in R or know by heart how to write any piece of code! This really is just an experience to play around with R to get a sense of what code looks like and to start practicing skills like reasoning about what code *might* be doing and copying/adapting previous code. In this class, you might need to reason about what some code is doing and execute code, but you will not need to write code without examples!\n",
        "\n"
      ],
      "metadata": {
        "id": "ov2jLpMXrjWR"
      }
    },
    {
      "cell_type": "markdown",
      "source": [
        "Let's get started!"
      ],
      "metadata": {
        "id": "HqqpxFbVjxyO"
      }
    },
    {
      "cell_type": "code",
      "source": [
        "# @title Hit the run button to set things up. You need to do this everytime you repoen this file!\n",
        "library(tidyverse)\n",
        "options(scipen = 100)\n",
        "options(ggplot2.continuous.colour=\"viridis\")\n",
        "options(ggplot2.continuous.fill = \"viridis\")\n",
        "options(repr.plot.width=8, repr.plot.height=8)\n",
        "options(warn=-1)"
      ],
      "metadata": {
        "cellView": "form",
        "id": "vKRUJhm8jx4h"
      },
      "execution_count": null,
      "outputs": []
    },
    {
      "cell_type": "markdown",
      "source": [
        "You can use R code on software installed on personal computers, but you don't *need* to do that, you can work online like we are now. You also don't always need to know exactly how all parts of a piece of software or R code work to do cool things! Here, we're going to just *do* a couple things; don't worry much about how they work at this stage! An important part of learning computational skills is becoming comfortable with *not knowing* and working with what you can figure out based on your existing knowledge and the accomplishments of others (as found through Google or your favorite search engine or asking others what they have done -- but with appropriate permission and acknowledgment of course!).\n",
        "\n",
        "R is a statistical programming language -- among other ways to think about it, a programming language can be thought of as a set of commands to instruct a computer to do what you want. But, not all computers \"know\" the R language! You need software that can interpret it. Right now, you are looking at Google Colab. Colab is a piece of software that runs on a Google server somewhere (a server is basically just a computer that hosts things on the Internet). Google's server interprets the R commands, does whatever is asked, and sends back answers to you that you can see in a browser. Both RStudio and Colab can interpret R commands -- the R \"language\" is the same regardless of the software or how you run it (just like English is pretty much the same regardless of whether you write it by hand, print out a text, or send an email).\n",
        "\n",
        "What you are looking at now is English. What you see below in the shaded gray box (sometimes called a \"cell\") is an R command written out. In Colab, you can \"run\" the command by clicking the Play button that appears when you put your cursor over the R code or you can click the R code and press SHIFT+ENTER. Run each line of code from top to bottom and read the notes as you go!"
      ],
      "metadata": {
        "id": "sdm_7TN4pTuD"
      }
    },
    {
      "cell_type": "code",
      "source": [
        "3*12"
      ],
      "metadata": {
        "id": "SRKkCB33qP4V"
      },
      "execution_count": null,
      "outputs": []
    },
    {
      "cell_type": "code",
      "source": [
        "sqrt(16)"
      ],
      "metadata": {
        "id": "DBsBvNV3qoga"
      },
      "execution_count": null,
      "outputs": []
    },
    {
      "cell_type": "code",
      "source": [
        "12 * (2.3 ** 2) - 1.3"
      ],
      "metadata": {
        "id": "eFq2OqSlqubF"
      },
      "execution_count": null,
      "outputs": []
    },
    {
      "cell_type": "markdown",
      "source": [
        "Some parts of the commands above might seem weirdly written out, but they probably look pretty familiar -- basically how you would put something into a calculator.\n",
        "\n",
        "We can use R to give commands just like a calculator, but we can do so much more! Importantly, we can store values and use them later for instance. Run each of the boxes below and think about what you think each is accomplishing."
      ],
      "metadata": {
        "id": "PBUNr3CuqlFf"
      }
    },
    {
      "cell_type": "code",
      "source": [
        "some_value <- 5\n",
        "some_value"
      ],
      "metadata": {
        "id": "E2vMvOvWqYwk"
      },
      "execution_count": null,
      "outputs": []
    },
    {
      "cell_type": "code",
      "source": [
        "some_value * 12"
      ],
      "metadata": {
        "id": "E67ePVqvqc94"
      },
      "execution_count": null,
      "outputs": []
    },
    {
      "cell_type": "code",
      "source": [
        "age <- 23\n",
        "year <- 2022\n",
        "likely_birth_year <- year - age\n",
        "likely_birth_year"
      ],
      "metadata": {
        "id": "SVuE6jpdrNM3"
      },
      "execution_count": null,
      "outputs": []
    },
    {
      "cell_type": "markdown",
      "source": [
        "Sometimes, you will want to keep track of *lots* of numbers! We can keep track of a bunch of values easily in R. One way to do this is by creating \"vectors\" which are basically a kind of list of values. This is done by \"concatenating\" individual values. Here's an example:"
      ],
      "metadata": {
        "id": "cN1NBSy1rDUQ"
      }
    },
    {
      "cell_type": "code",
      "source": [
        "ages <- c(19, 19, 23, 24, 31)\n",
        "ages"
      ],
      "metadata": {
        "id": "SQzNUZRxqga9"
      },
      "execution_count": null,
      "outputs": []
    },
    {
      "cell_type": "markdown",
      "source": [
        "We can then do calculator-like things with lots of values at once! The box below carries out a subtraction operation five times -- but you only have to ask R to do subtraction once! Because we have a list or \"vector\" of numbers, R knows to do the same thing to each one of them. Way more convenient!"
      ],
      "metadata": {
        "id": "0w9NIuJvrv5t"
      }
    },
    {
      "cell_type": "code",
      "source": [
        "likely_birth_years <- year - ages\n",
        "likely_birth_years"
      ],
      "metadata": {
        "id": "v19A8zUWqgd3"
      },
      "execution_count": null,
      "outputs": []
    },
    {
      "cell_type": "markdown",
      "source": [
        "*Some of you might note that the step above to estimate \"likely birth years\" isn't perfect -- we just wrote ages and year, we didnt keep track of dates! It's good not to be sloppy, but we don't always need to be perfect: What's important is having a sense of how precise we are and not overstating our precision! We might be off by one year using this calculation, but never more than that!*"
      ],
      "metadata": {
        "id": "o_DofBZFtJp_"
      }
    },
    {
      "cell_type": "markdown",
      "source": [
        "In data analyses, we will typically want to work with more complicated forms of data. One common form in psychological science is a data frame (essentially a table of data). Usually, we will want to get these dataframes from data that is saved on a computer or online somewhere, rather than typing it all out. We can \"load\" data to a session of R! In this case, we're going to load some data that happens to be stored on my Google Drive."
      ],
      "metadata": {
        "id": "b4UfmSwMr8S9"
      }
    },
    {
      "cell_type": "code",
      "source": [
        "id <- \"1zoYDEdrJoRNTVJXG5BO4ZkSDHWg5XFpG\"\n",
        "phx_dat <- read_csv2(sprintf(\"https://docs.google.com/uc?id=%s&export=download\", id))"
      ],
      "metadata": {
        "id": "w04khHmVQqYy"
      },
      "execution_count": null,
      "outputs": []
    },
    {
      "cell_type": "markdown",
      "source": [
        "Above, we loaded a dataframe into R. The dataframe in R is called phx_dat. This data is part of the results from the 2016 American Community Survey -- a survey that uses census information and questionnaires to estimate demographic features about neighborhoods around the US (and used by [these researchers](https://www.sciencedirect.com/science/article/pii/S0143622821000461?casa_token=jBNto-_vwx0AAAAA:bZRJllx51GYlZa6kG5IGXCoUj-eM6uPrONIWZ_RDiooh_RpzloaLYyjtwRP3cGJxyqBt9NFtJ_I) to study heat vulnerability in Pheonix). Here, we're just looking at data from Phoenix. We can ask R to show us everything in that dataframe by typing in the dataframe's name as a command. Have a look at what's in this data!"
      ],
      "metadata": {
        "id": "XEXE5_kUtSVX"
      }
    },
    {
      "cell_type": "code",
      "source": [
        "phx_dat"
      ],
      "metadata": {
        "id": "SHXQVLXWsgIL"
      },
      "execution_count": null,
      "outputs": []
    },
    {
      "cell_type": "markdown",
      "source": [
        "Dataframes keep track of data from many observations with different variables. In this case, each \"observation\" is a recording about 1 neighbohood (technically called a \"census tract\") in Phoenix and shown as a row. Each neighborhood has a slightly different size, but they are all around a few thousand. In data science and statistics, a \"variable\" is basically an aspect of the world that we've measured or estimated. Oftentimes, variables will have special names so researchers can reference them more easily. The phx_dat dataframe has lots of variables about the demographics of different communities in Phoenix! Some of these variables are what you'd expect to see in a population census (total population, income, ethnic background), but we also have some variables that are more specifically useful in Central Arizona's intense heat! For instance, We have estimates for how many people live without air conditioning and how much shady vegetation there is in neighborhoods.\n",
        "\n",
        "Earlier, we looked at all the data at once, and it was a little overwhelming. We can also see what kind of data is here by \"glimpse\"ing part of it! \"glimpse\" is a useful tool to have a look at all the variables in a data frame."
      ],
      "metadata": {
        "id": "1822Nftzsyh0"
      }
    },
    {
      "cell_type": "code",
      "source": [
        "glimpse(phx_dat)"
      ],
      "metadata": {
        "id": "2E8ciLuKRH03"
      },
      "execution_count": null,
      "outputs": []
    },
    {
      "cell_type": "markdown",
      "source": [
        "Some of these variable names will make sense! For instance, MEDAGE is the median age of residents in the neighborhood and Qpoverty is the percent of people below the poverty line. One helpful tip is that \"Q\" is often added to the front of variables that were collected using a questionnaire. Have a look through these variables and find some that seem straightforward and some that seem weirder!\n",
        "\n",
        "For variables with weirder names, you sometimes might need to consult a \"codebook\" that explains what is described with each variable. To see a \"codebook\" that provides a little bit of an explanation for each of the variables, follow this [link!](https://docs.google.com/spreadsheets/d/1KodckiIN7u0diQ3OXkAr388PaE-x3LdVR-W7j7KqZKM/edit?usp=sharing). You might want to open this in a new tab and keep it open to reference a little later!"
      ],
      "metadata": {
        "id": "57uHNjFwbvkd"
      }
    },
    {
      "cell_type": "markdown",
      "source": [
        "Usually, we want to do more than just look at raw numbers for data, we want to make some meaning out of it by findings patterns in groups of data! We can get statistical summaries quickly of data! Recall that \"mean\" is the \"average\" value that you might remember from math classees. Min is simply the smallest number, max the biggest number. Let's try and figure something out! The Phoenix metro is known as a suburban metro dependent on automobiles, but not everyone has a car! In some neighborhoods, there might be important numbers of people who do not have access to a car. What percent of residents don't have access to a car in the neighborhood with the most car-less people?"
      ],
      "metadata": {
        "id": "oI-vdSuutg2G"
      }
    },
    {
      "cell_type": "code",
      "source": [
        "summary(phx_dat)"
      ],
      "metadata": {
        "id": "Y24zTJ9gtjgv"
      },
      "execution_count": null,
      "outputs": []
    },
    {
      "cell_type": "markdown",
      "source": [
        "# Visualizing Data"
      ],
      "metadata": {
        "id": "p4i7u_dL3_bc"
      }
    },
    {
      "cell_type": "markdown",
      "source": [
        "Numbers are fun and all (right? ... RIGHT?!) But, we can also make visualizations of data! Visualizations let us *see* patterns in data. Here are a couple examples!\n",
        "\n",
        "In the first graph, what can you see? In the code, what can you make sense of, even without knowing how the R code works (look for words that you do understand in the code and try to link it to the graph)? Spend a minute or so reasoning about what each part of the code might do, but don't worry if a lot of it seems weird to you still!"
      ],
      "metadata": {
        "id": "sLJa23m8tlx9"
      }
    },
    {
      "cell_type": "code",
      "source": [
        "phx_dat %>%\n",
        " ggplot(aes(x = LONGITUDE, y = LATITUDE, color = QNOAUTO)) +\n",
        " geom_point() +\n",
        " scale_color_gradientn(colors = c(\"green\", \"magenta\")) +\n",
        " theme_minimal() +\n",
        " theme(aspect.ratio = 1) +\n",
        " theme(text = element_text(size = 28)) +\n",
        " ggtitle(\"Phoenix City Mystery Data\")"
      ],
      "metadata": {
        "id": "zvTLWDgHtq69"
      },
      "execution_count": null,
      "outputs": []
    },
    {
      "cell_type": "markdown",
      "source": [
        "What can you see in this graph? What about in the code?\n",
        "\n",
        "It might help to have a map of Phoenix that shows its boundaries! Here's [one!](https://www.google.com/maps/place/Phoenix,+AZ/@33.5279154,-112.2641615,10z/data=!4m10!1m2!2m1!1sphoenix+city+limits!3m6!1s0x872b12ed50a179cb:0x8c69c7f8354a1bac!8m2!3d33.4483771!4d-112.0740373!15sChNwaG9lbml4IGNpdHkgbGltaXRzkgEIbG9jYWxpdHngAQA!16zL20vMGQzNXk?hl=en&entry=ttu) Where is downtown on your graph?\n",
        "\n",
        "---\n",
        "\n"
      ],
      "metadata": {
        "id": "L9ixzyOFuq7H"
      }
    },
    {
      "cell_type": "markdown",
      "source": [
        "Let's check out another graph! What's going on here?"
      ],
      "metadata": {
        "id": "ZtON1jdAjFNh"
      }
    },
    {
      "cell_type": "code",
      "source": [
        "phx_dat %>%\n",
        " ggplot(aes(x = MHSEVAL, y = PERCAP)) +\n",
        " geom_point() +\n",
        " geom_smooth(method = 'lm', formula = 'y ~ x') +\n",
        " theme_bw() +\n",
        " theme(text = element_text(size = 28)) +\n",
        " ggtitle(\"Phoenix City Mystery Data\") +\n",
        " xlab(\"Neighborhood Typical Housing Price\") +\n",
        " ylab(\"Per Capita Income\")"
      ],
      "metadata": {
        "id": "aOZl-kQ5QuRw"
      },
      "execution_count": null,
      "outputs": []
    },
    {
      "cell_type": "markdown",
      "source": [
        "Check out the graph below. What's going on? What's missing compared to the last couple graphs? What's different? This kind of graph is called a \"histogram\"."
      ],
      "metadata": {
        "id": "cxPxlEs84rte"
      }
    },
    {
      "cell_type": "code",
      "source": [
        "phx_dat %>% ggplot(aes(x = MHSEVAL)) +\n",
        "  geom_histogram(bins = 50) +\n",
        "  theme_grey() +\n",
        "  theme(text = element_text(size = 28))\n"
      ],
      "metadata": {
        "id": "Xi5K_tNn4sFC"
      },
      "execution_count": null,
      "outputs": []
    },
    {
      "cell_type": "markdown",
      "source": [
        "*Remember, these are 2016 housing prices. And also, this is the \"median\" houseprice in each neighborhood -- the median house price in a neighborhood is the house that is the \"middle-priced\" one; If the median house price is $300,000, then half of the houses in the neighborhood cost more than that and half cost less. There's definitely houses that cost more than 1.2 million in Phoenix (even in 2016)*"
      ],
      "metadata": {
        "id": "tHRIr_Um5J3_"
      }
    },
    {
      "cell_type": "markdown",
      "source": [
        "Now here's an example that's a little more complicated! What can you see in this graph? What about in the code?\n",
        "(This code has an extra step involved but is pretty similar to the one above! -- we're calculating something before we create the graph. What might the code be calculating?)"
      ],
      "metadata": {
        "id": "bHL8PYoYveRC"
      }
    },
    {
      "cell_type": "code",
      "source": [
        "phx_dat$hi_income_community <- phx_dat$PERCAP > mean(phx_dat$PERCAP)\n",
        "\n",
        "phx_dat %>% ggplot(aes(x = MHSEVAL)) +\n",
        "  geom_histogram(bins = 50) +\n",
        "  theme_gray() +\n",
        "   facet_wrap(~hi_income_community, nrow = 2)\n"
      ],
      "metadata": {
        "id": "5dGmwIDoez89"
      },
      "execution_count": null,
      "outputs": []
    },
    {
      "cell_type": "markdown",
      "source": [
        "# Try it out! Adapt Some Graphs!"
      ],
      "metadata": {
        "id": "GuMY6Yqj366q"
      }
    },
    {
      "cell_type": "markdown",
      "source": [
        "There are *many* different things that we could graph or visualize! You can spend a lot of time covering how to make graphs like this, but even without knowing the details you can figure out how to make novel graphs!\n",
        "There's a lot of variables about housing we could look at, remember these are the variables we have measured for all of our Phoenix neighborhoods in the dataset:"
      ],
      "metadata": {
        "id": "5lT0AJF1vNij"
      }
    },
    {
      "cell_type": "code",
      "source": [
        "glimpse(phx_dat)"
      ],
      "metadata": {
        "id": "S8_NBRdUvhKg"
      },
      "execution_count": null,
      "outputs": []
    },
    {
      "cell_type": "markdown",
      "source": [
        "You don't always need to know how everything works to get something interesting! Below is the same code as in the first example. Change the code so that you can see what parts of Phoenix have more lush greenery. Is it greener in the suburbs? Downtown? Some mix? Hint: \"mean NDVI\" is a fancy measure of vegetation based on satellite images. Higher NDVI values mean the neighborhood has more trees and plants! Let's ignore the rate of automobile ownership for now!\n",
        "\n",
        "Hint: Check the output of \"glimpse\" above to see what the name is that we use to refer to the NDVI variable in this data. Then, delete part of the code below, and replace it with the variable that will tell us about plants. Then, you can also change the title of the graph to something like \"PHX neighborhoods by lushness\". Remember the [codebook](https://docs.google.com/spreadsheets/d/1KodckiIN7u0diQ3OXkAr388PaE-x3LdVR-W7j7KqZKM/edit?usp=sharing) if you want to consult it."
      ],
      "metadata": {
        "id": "S1nJf3IepQ7H"
      }
    },
    {
      "cell_type": "code",
      "source": [
        "phx_dat %>%\n",
        " ggplot(aes(x = LONGITUDE, y = LATITUDE, color = QNOAUTO)) +\n",
        " geom_point() +\n",
        " scale_color_gradientn(colors = c(\"green\", \"magenta\")) +\n",
        " theme_minimal() +\n",
        " theme(aspect.ratio = 1) +\n",
        " theme(text = element_text(size = 28)) +\n",
        " ggtitle(\"Phoenix City Mystery Data\")"
      ],
      "metadata": {
        "id": "ATkRkocLvpf9"
      },
      "execution_count": null,
      "outputs": []
    },
    {
      "cell_type": "markdown",
      "source": [
        "Now, adapt another graph! Change the code below to try and answer the following question: \"Are more houses left unoccupied in neighborhoods that are financially well off (maybe from empty vacation homes) or in neighborhoods with high rates of poverty (maybe from homes that are unable to be rented or occupied because they aren't up to code)?\"\n",
        "\n",
        " Change the code to compare the rate of unoccupied houses in communities  with the poverty rate in a community. What kind of neighborhoods would you expect to find more unoccupied houses in? Remember, you can check the [codebook](https://docs.google.com/spreadsheets/d/1KodckiIN7u0diQ3OXkAr388PaE-x3LdVR-W7j7KqZKM/edit?usp=sharing) to get a better sense of what variables mean! Make sure to spell the variable name exactly (capitalization matters)!\n"
      ],
      "metadata": {
        "id": "f3xiNOBXwH9W"
      }
    },
    {
      "cell_type": "code",
      "source": [
        "phx_dat %>%\n",
        " ggplot(aes(x = MHSEVAL, y = PERCAP)) +\n",
        " geom_point() +\n",
        " geom_smooth(method = 'lm', formula = 'y ~ x') +\n",
        " theme_bw() +\n",
        " theme(text = element_text(size = 28)) +\n",
        "ggtitle(\"Phoenix City Mystery Data\")"
      ],
      "metadata": {
        "id": "qMJVY_gzw6Dy"
      },
      "execution_count": null,
      "outputs": []
    },
    {
      "cell_type": "markdown",
      "source": [
        "# Breaking up some code"
      ],
      "metadata": {
        "id": "nSUAc1mnqdfE"
      }
    },
    {
      "cell_type": "markdown",
      "source": [
        "It's important to know that it's *very hard to break R or your computer when writing code*. You can delete things, write things, run them, and generally just try things out to see what happens! Usually the worst case is that you will delete your code and forget what you wrote before (so maybe make a copy), but playing around to see what happens is a good thing to try and is encouraged! Sometimes R will give you a warning or even an \"error\" report -- but don't be discouraged! These are just tips to help coders along, not punishments!\n",
        "\n",
        "Practice that here! First, run the code below to make a graph, then try playing around with parts. Try out each change below one at a time to get a sense of what the different parts of the code do. Make each change, then run the code and look at the graph. Before you make the next change, you can \"undo\" the change that you made. Note: To undo changes, click on your code, then press CTRL+Z (for PC) or COMMAND+Z (for MacOS) to undo your changes!\n",
        "*  Change the 1.0 in \"alpha = 1.0\" to another number. Try out 0, 0.1, 1, 100, 0.5, -1, or other numbers.\n",
        "*  Delete the part of the code that says \"method = 'lm', formula = 'y ~ x'\".\n",
        "*  Delete the part of the code that says \"theme_bw()\" and *also* the \"+\" (plus sign) on the line above it.\n",
        "*  Swap the \"green\" and \"magenta\" out for other colors like \"teal\" or \"black\"\n",
        "*  Replace \"color\" with \"size\" in \"color = QRENTER\"."
      ],
      "metadata": {
        "id": "8MNPr45NxKgq"
      }
    },
    {
      "cell_type": "code",
      "source": [
        "phx_dat %>%\n",
        " ggplot(aes(x = MHSEVAL, y = PERCAP, color = QRENTER)) +\n",
        " geom_point(alpha = 1.0) +\n",
        " geom_smooth(method = \"lm\", formula = 'y ~ x') +\n",
        " scale_color_gradientn(colors = c(\"green\", \"magenta\")) +\n",
        " theme_bw() +\n",
        " theme(text = element_text(size = 20)) +\n",
        " ggtitle(\"Phoenix City Mystery Data\")"
      ],
      "metadata": {
        "id": "xMJi8mSoxJzZ"
      },
      "execution_count": null,
      "outputs": []
    },
    {
      "cell_type": "markdown",
      "source": [
        "Let's try altering another graph to try and reason about what the parts of the code do. First, run the code below to recreate the graph. Then, make the following changes one at a time, run the code to check out the graph, then undo the change and try the next thing. What does each change do? What does that tell us about the part of the code?\n",
        "\n",
        "\n",
        "*   In \"geom_histogram\", change the number 50 in \"bins = 50\" to another number. Try out a few numbers, like 5, 500, 100.\n",
        "*   Replace \"theme_grey()\" with \"theme_bw()\". Then, try out \"theme_void()\".\n",
        "*   Delete the the entire line that says \"geom_histogram(bins = 50) +\"\n",
        "\n"
      ],
      "metadata": {
        "id": "bX1yrebs2ds6"
      }
    },
    {
      "cell_type": "code",
      "source": [
        "phx_dat %>% ggplot(aes(x = MHSEVAL)) +\n",
        "  geom_histogram(bins = 50) +\n",
        "  theme_grey() +\n",
        "  theme(text = element_text(size = 28))"
      ],
      "metadata": {
        "id": "a7rT9gKn2d1Y"
      },
      "execution_count": null,
      "outputs": []
    },
    {
      "cell_type": "markdown",
      "source": [
        "# Make some novel graphs and explore new patterns!"
      ],
      "metadata": {
        "id": "RpoUArCSqHoZ"
      }
    },
    {
      "cell_type": "markdown",
      "source": [
        "Even with a *relatively* small dataset like the one we have here, there are a lot of things you can do, knowing very little of the R language!\n",
        "Think of a couple questions you could ask with the data in this dataset, and create one or two graphs that would help you answer those questions. To do this, copy and paste code from the graphs above, and swap things out! The easiest way to do this is to look at all the variables in the dataset first:"
      ],
      "metadata": {
        "id": "iQp7PGbYybbW"
      }
    },
    {
      "cell_type": "code",
      "source": [
        "glimpse(phx_dat)"
      ],
      "metadata": {
        "id": "CwOjWBIxBy8K"
      },
      "execution_count": null,
      "outputs": []
    },
    {
      "cell_type": "markdown",
      "source": [
        "To see a \"codebook\" that provides a little bit of an explanation for each of the variables, follow this [link!](https://docs.google.com/spreadsheets/d/1KodckiIN7u0diQ3OXkAr388PaE-x3LdVR-W7j7KqZKM/edit?usp=sharing)\n",
        "\n",
        "After looking at the variables in the dataset, consider some that might be interesting to check out. One particularly important variable to consider in summer months in Arizona is *noAC* -- neighborhoods with lots of households without air conditioning may have more people at risk of heat-related illness! How common is it to have no AC across neighborhoods? What other neighborhood features might go along with having no AC?\n",
        "\n",
        "After choosing some variables of interest, *copy the code for one of the graphs above in the cell below*. In the copied code, find where a variable name is listed, and replace it with a new variable. Run the code to see what graph you come up with! Try this out two or three times in the boxes below!\n",
        "\n",
        "Try to find some interesting patterns, but be wary --  with data like this, we can see if different aspects of a neighborhood go together but we can't know if different aspects of the neighborhood are *caused by* or *determined by* other aspects. Just because a neighborhood with more plants tends to have pricier houses doesn't mean that the reason for those high prices is *because of* the plants! It could be that people who can afford pricier houses tend to grow more plants, or it could be a coincidence!"
      ],
      "metadata": {
        "id": "JO4-Y6qKB9Cn"
      }
    },
    {
      "cell_type": "code",
      "source": [
        "##DELETE THIS, COPY CODE HERE, and PLAY"
      ],
      "metadata": {
        "id": "dG9SD8-YzSWE"
      },
      "execution_count": null,
      "outputs": []
    },
    {
      "cell_type": "code",
      "source": [
        "##DELETE THIS, COPY CODE HERE, and PLAY"
      ],
      "metadata": {
        "id": "AkkPFbwMxJs1"
      },
      "execution_count": null,
      "outputs": []
    },
    {
      "cell_type": "code",
      "source": [
        "##DELETE THIS, COPY CODE HERE, and PLAY"
      ],
      "metadata": {
        "id": "qRziRE4wyoNn"
      },
      "execution_count": null,
      "outputs": []
    },
    {
      "cell_type": "markdown",
      "source": [
        "Once you've made a couple graphs, let's think about what you might learn and share! Choose what you think is the most interesting graph and think about this:\n",
        "\n",
        "\n",
        "*   What's the big picture pattern here? Does high income go along with lots of vegetation? Does it not seem like there's any relationship between car ownership and education levels? What \"goes with\" what?\n",
        "*   This data can't tell us *why* we see a pattern, only that there is a pattern! Think of some possible explanations! For any pattern there are infinite reasons for it: \"When higher income people buy houses, they plant lots of trees\" vs \"higher income people like to move to places with lots of trees\" vs \"higher income people tend to live on hills, and there are naturally more plants on hills\". Note that a lot of the patterns we see have deep and sometimes sad historical explanations! *But*, with our data we won't be able to know for sure which stories provide the best explanations.\n",
        "*   Think of something that your data (at least partly) refutes! For instance, if you see that higher income neighborhoods have more plants than lower income neighborhoods, then this is some evidence against the proposal that \"wealthier Phoenicians like things to look clean and modern, and tend to move to places without vegetation or natural scenery\".\n",
        "\n",
        "\n",
        "\n",
        "Go to this [link](https://docs.google.com/presentation/d/1-FPGeF5gdLPnpdJdQ6dv-MjZl1zjeLC5uZUons2WF4k/edit?usp=sharing) to share your graph and ideas! You can copy your graph by right clicking and choosing Copy. Make some notes about what you found!"
      ],
      "metadata": {
        "id": "WfGwC0Tj4NQp"
      }
    },
    {
      "cell_type": "markdown",
      "source": [
        "# The Big Picture\n",
        "You've just figured out for yourself what some elements of R code do and made some cool graphs of real data!\n",
        "\n",
        "If you don't have much coding experience, it might feel like parts of this are \"cheating\" of like you aren't \"really\" coding if you look at examples and make small edits to them. However, this is approach is not simply a crutch to help you until you know \"how to code\". This *is* one part of how expert coders and especially researchers work! You don't have to know how every part of the code works to make something useful!\n",
        "\n",
        "Over time, you'll slowly internalize more and more coding tools and tricks, but the ability to copy existing code, look for parts that make sense to you, and adapt them to your purposes is at the core of scientific computing skills! In the real world, you can use Google, look in textbooks or online tutorials, generate code with tools like ChatGPT or Bard, and check out what labmates or research collaborators have done! You usually won't find a perfect solution for a problem you are trying to solve, but you will usually find parts that you can build on and make your own!\n",
        "\n"
      ],
      "metadata": {
        "id": "EalZ8ySjyyuF"
      }
    },
    {
      "cell_type": "markdown",
      "source": [
        "# Extra Data!"
      ],
      "metadata": {
        "id": "l9ohtULh1bFD"
      }
    },
    {
      "cell_type": "markdown",
      "source": [
        "If you've finished up the activity so far and you want to try out playing with some different data, here's some steps to look at an example from the neuroscience and comparative psychology of sleep!\n",
        "\n",
        "This code loads the data as a dataframe called \"msleep\"."
      ],
      "metadata": {
        "id": "CTJ-7uDv5qnh"
      }
    },
    {
      "cell_type": "code",
      "source": [
        "msleep <- ggplot2::msleep"
      ],
      "metadata": {
        "id": "ZIfN8PJb5mdp"
      },
      "execution_count": null,
      "outputs": []
    },
    {
      "cell_type": "markdown",
      "source": [
        "Check out what kind of data is in the msleep dataframe! You can \"glimpse\" it. Look above to find an example of \"glimpsing\" a dataset, copy it in the cell below, and alter it so you can see our new dataset! What is recorded in it?"
      ],
      "metadata": {
        "id": "bLPEDfZE5uWM"
      }
    },
    {
      "cell_type": "code",
      "source": [],
      "metadata": {
        "id": "5TrRdtlH2CN2"
      },
      "execution_count": null,
      "outputs": []
    },
    {
      "cell_type": "markdown",
      "source": [
        "You can also look at all of your data (or actually *almost* all of your data, R doesn't want to fill your screen with *too much*), by telling R the name of your dataframe and hitting run! Have a look at some mammals of interest and figure out how much sleep they get in total (on average). How does typical human sleep compare to primate cousins like owl monkeys? What about baboons? Elephants?"
      ],
      "metadata": {
        "id": "r-SbxcBo6CFl"
      }
    },
    {
      "cell_type": "code",
      "source": [
        "msleep"
      ],
      "metadata": {
        "id": "qNA3lKwL6Cg8"
      },
      "execution_count": null,
      "outputs": []
    },
    {
      "cell_type": "markdown",
      "source": [
        "We can use visualizations like histograms, scatterplots, and other kinds of graphs to quickly figure out things about data!\n",
        "\n",
        "For instance, based on the msleep dataframe, which includes a representative set of mammals, what do you think is a typical amount of total sleep for mammals in general? How much variability is there in the amount of sleep that mammals get?\n",
        "\n",
        "To have a sense of this, you can create a histogram. Below is a copy of the code for a histogram that we used above.  Create a new histogram that shows the typical total sleeping time for mammal species. (You might want to play with the number of *bins* to get a better sense of the data -- try out differen numbers like 100, 1000, 10, or 5 and think about what each option shows you differently). Remember to swap out the variable for what you care about and that instead of using the phx_dat dataset, we want msleep!"
      ],
      "metadata": {
        "id": "hQFVmRWk5lCw"
      }
    },
    {
      "cell_type": "code",
      "source": [
        "phx_dat %>% ggplot(aes(x = MHSEVAL)) +\n",
        "  geom_histogram(bins = 50) +\n",
        "  theme_grey() +\n",
        "  theme(text = element_text(size = 28))"
      ],
      "metadata": {
        "id": "lv4t_CnU7Ywh"
      },
      "execution_count": null,
      "outputs": []
    },
    {
      "cell_type": "markdown",
      "source": [
        "Based on the graph above, you can start to gauge what's typical in mammal sleep. You can also get a sense of how much variability there is. This can help you form beliefs about the world!\n",
        "*   If someone told you they discoverd a new mammal species, but told you\n",
        "nothing else, how much sleep do you think it would get in a day?\n",
        "*   If someone told you that a biologist recently discovered that a rare species of small monkeys typically sleeps 21 hours a day, how surprised would you be?"
      ],
      "metadata": {
        "id": "TRZaLErc7-hy"
      }
    },
    {
      "cell_type": "markdown",
      "source": [
        "Rapid Eye Movement sleep (REM sleep) is an important phase in sleep where -- surprise! -- your eyes move around a lot. Beyond that, REM sleep is also tied to things like dreaming and your ability to retain memories over long periods of time.\n",
        "\n",
        "Create another graph that lets you form ideas about REM sleep and total sleep. Do different mammals get around the same proportion of REM sleep compared to their total sleep?\n",
        "\n",
        "Create a graph that shows total sleep in hours and REM sleep in hours. Does is seem like animals that get more sleep get *proportionately* more REM sleep than animals that sleep less in total? Have a look at the data and think it through. If it helps, the line shows a \"best fit line\" -- it is one way to show a trend in a dataset."
      ],
      "metadata": {
        "id": "mXmasVzJ60yf"
      }
    },
    {
      "cell_type": "code",
      "source": [
        "phx_dat %>%\n",
        " ggplot(aes(x = MHSEVAL, y = PERCAP)) +\n",
        " geom_point(alpha = 1.0) +\n",
        " geom_smooth(method = \"lm\", formula = 'y ~ x') +\n",
        " scale_color_gradientn(colors = c(\"green\", \"magenta\")) +\n",
        " theme_bw() +\n",
        " theme(text = element_text(size = 20)) +\n",
        " ggtitle(\"Phoenix City Mystery Data\")"
      ],
      "metadata": {
        "id": "g3tjus78qBut"
      },
      "execution_count": null,
      "outputs": []
    },
    {
      "cell_type": "markdown",
      "source": [
        "Now try out some other kind of graph! For instance, how do the sizes of animal bodies and brains interact? Think of a graph that you might want, then copy an example from above that looks similar and put it here. Adapt it to get what you want!"
      ],
      "metadata": {
        "id": "l6eSbnHxucXk"
      }
    },
    {
      "cell_type": "code",
      "source": [],
      "metadata": {
        "id": "p3y0Mg10ucfN"
      },
      "execution_count": null,
      "outputs": []
    },
    {
      "cell_type": "code",
      "source": [],
      "metadata": {
        "id": "ugkpyi1EwTsb"
      },
      "execution_count": null,
      "outputs": []
    },
    {
      "cell_type": "code",
      "source": [],
      "metadata": {
        "id": "2OPY8dQhwUFl"
      },
      "execution_count": null,
      "outputs": []
    },
    {
      "cell_type": "markdown",
      "source": [
        "# That's it for now!\n",
        "\n",
        "If you want to return to this Google Colab, simply go to your Google Drive and search for \"PSY230: Phoenix Neighborhoods\"! However, note that every time you reopen it, you will want to run each bit of code from the top to the bottom!"
      ],
      "metadata": {
        "id": "mtGDzHuj-BfQ"
      }
    }
  ]
}